{
  "cells": [
    {
      "cell_type": "markdown",
      "metadata": {
        "id": "view-in-github",
        "colab_type": "text"
      },
      "source": [
        "<a href=\"https://colab.research.google.com/github/jdhauswirth/colab_public/blob/main/001_Anagrams.ipynb\" target=\"_parent\"><img src=\"https://colab.research.google.com/assets/colab-badge.svg\" alt=\"Open In Colab\"/></a>"
      ]
    },
    {
      "cell_type": "markdown",
      "id": "57eba9c5",
      "metadata": {
        "id": "57eba9c5"
      },
      "source": [
        "# Anagram Detection in Python\n",
        "based on post seen on https://medium.com/analytics-vidhya/using-python-to-detect-anagrams-a002ddedb4cb and\n",
        "\n",
        "credit to https://www.linkedin.com/in/michaelgalarnyk/"
      ]
    },
    {
      "cell_type": "markdown",
      "id": "9684cbbc",
      "metadata": {
        "id": "9684cbbc"
      },
      "source": [
        "__Problem Statement__\n",
        "\n",
        "__Task__: Write a program that takes in a word list and outputs a list of all the words that are anagrams of another word in the list.\n",
        "\n",
        "Before starting, it is important to note what an anagram is. \n",
        "\n",
        "An anagram is a word or phrase formed by rearranging the letters of a different word or phrase, typically using all the original letters exactly once.\n",
        "\n",
        "While there are many different ways to solve this problem, this notebook provides two different approaches to solve this problem.\n",
        "\n",
        "For both of the approaches below, we first need to define a word list.\n"
      ]
    },
    {
      "cell_type": "code",
      "execution_count": 1,
      "id": "5cb56100",
      "metadata": {
        "id": "5cb56100"
      },
      "outputs": [],
      "source": [
        "word_list = [\n",
        "    \"times\",\n",
        "    \"percussion\",\n",
        "    \"boy\",\n",
        "    \"supersonic\",\n",
        "    \"car\",\n",
        "    \"comics\",\n",
        "    \"tree\",\n",
        "    \"girl\",\n",
        "    \"arc\",\n",
        "    \"cosmic\",\n",
        "    \"emits\",\n",
        "]"
      ]
    },
    {
      "cell_type": "markdown",
      "id": "60bc8283",
      "metadata": {
        "id": "60bc8283"
      },
      "source": [
        "## __Approach #1__ -  For Loops and Sorted\n"
      ]
    },
    {
      "cell_type": "code",
      "execution_count": 2,
      "id": "e39563c1",
      "metadata": {
        "colab": {
          "base_uri": "https://localhost:8080/"
        },
        "id": "e39563c1",
        "outputId": "f2cdd12b-b208-4260-dbc5-02d154abb6e0"
      },
      "outputs": [
        {
          "output_type": "stream",
          "name": "stdout",
          "text": [
            "The following words from the word list above are anagrams.\n",
            "\n",
            "list:   ['times', 'percussion', 'supersonic', 'car', 'comics', 'arc', 'cosmic', 'emits']\n",
            "sorted: ['arc', 'car', 'comics', 'cosmic', 'emits', 'percussion', 'supersonic', 'times']\n"
          ]
        }
      ],
      "source": [
        "# initialize a list\n",
        "anagram_list = []\n",
        "\n",
        "for word_1 in word_list:\n",
        "    for word_2 in word_list:\n",
        "        if word_1 != word_2 and (sorted(word_1) == sorted(word_2)):\n",
        "            anagram_list.append(word_1)\n",
        "\n",
        "\n",
        "print(\"The following words from the word list above are anagrams.\\n\")\n",
        "print(\"list:  \", anagram_list)\n",
        "print(\"sorted:\", sorted(anagram_list))"
      ]
    },
    {
      "cell_type": "code",
      "execution_count": 3,
      "id": "23247ce9",
      "metadata": {
        "colab": {
          "base_uri": "https://localhost:8080/"
        },
        "id": "23247ce9",
        "outputId": "be9012dd-8c4f-4d71-9c77-5a3b7c4fd3b7"
      },
      "outputs": [
        {
          "output_type": "stream",
          "name": "stdout",
          "text": [
            "['e', 'i', 'm', 's', 't']\n",
            "['c', 'e', 'i', 'n', 'o', 'p', 'r', 's', 's', 'u']\n",
            "['c', 'e', 'i', 'n', 'o', 'p', 'r', 's', 's', 'u']\n",
            "['a', 'c', 'r']\n",
            "['c', 'c', 'i', 'm', 'o', 's']\n",
            "['a', 'c', 'r']\n",
            "['c', 'c', 'i', 'm', 'o', 's']\n",
            "['e', 'i', 'm', 's', 't']\n"
          ]
        }
      ],
      "source": [
        "for word in anagram_list:\n",
        "    print(sorted(word))"
      ]
    },
    {
      "cell_type": "markdown",
      "id": "0821ed01",
      "metadata": {
        "id": "0821ed01"
      },
      "source": [
        "\n",
        "## __Approach #2__ - Using a python dictionary"
      ]
    },
    {
      "cell_type": "code",
      "execution_count": 4,
      "id": "a80b5309",
      "metadata": {
        "colab": {
          "base_uri": "https://localhost:8080/"
        },
        "id": "a80b5309",
        "outputId": "abfc178f-dd20-4c3f-c12f-0fac008e688a"
      },
      "outputs": [
        {
          "output_type": "stream",
          "name": "stdout",
          "text": [
            "The following words in the words list above are anagrams.\n",
            "\n",
            "list:   ['times', 'percussion', 'supersonic', 'car', 'comics', 'arc', 'cosmic', 'emits']\n",
            "sorted: ['arc', 'car', 'comics', 'cosmic', 'emits', 'percussion', 'supersonic', 'times']\n"
          ]
        }
      ],
      "source": [
        "def freq(word):\n",
        "    freq_dict = {}\n",
        "    for char in word:\n",
        "        freq_dict[char] = freq_dict.get(char, 0) + 1\n",
        "    return freq_dict\n",
        "\n",
        "\n",
        "# initialize a list\n",
        "anagram_list = []\n",
        "\n",
        "for word_1 in word_list:\n",
        "    for word_2 in word_list:\n",
        "        if word_1 != word_2 and (freq(word_1) == freq(word_2)):\n",
        "            anagram_list.append(word_1)\n",
        "\n",
        "print(\"The following words in the words list above are anagrams.\\n\")\n",
        "print(\"list:  \", anagram_list)\n",
        "print(\"sorted:\", sorted(anagram_list))"
      ]
    },
    {
      "cell_type": "markdown",
      "id": "1a132c15",
      "metadata": {
        "id": "1a132c15"
      },
      "source": [
        "If you look at the inner for loop, the code ```freq(word_1) == freq(word_2)``` checks that the words are not the same. The function freq converts each word to a dictionary of char frequency. For example, since freq('percussion') == freq('supersonic') is True, they are anagrams of each other."
      ]
    },
    {
      "cell_type": "code",
      "execution_count": 5,
      "id": "10d24eed",
      "metadata": {
        "colab": {
          "base_uri": "https://localhost:8080/"
        },
        "id": "10d24eed",
        "outputId": "ee8fc6cd-d71d-49ad-fc8c-a3c04484da55"
      },
      "outputs": [
        {
          "output_type": "stream",
          "name": "stdout",
          "text": [
            "{'p': 1, 'e': 1, 'r': 1, 'c': 1, 'u': 1, 's': 2, 'i': 1, 'o': 1, 'n': 1}\n"
          ]
        }
      ],
      "source": [
        "print(freq(\"percussion\"))"
      ]
    },
    {
      "cell_type": "code",
      "execution_count": 6,
      "id": "bcd8fef2",
      "metadata": {
        "colab": {
          "base_uri": "https://localhost:8080/"
        },
        "id": "bcd8fef2",
        "outputId": "47644b74-fe12-4a36-f127-418522fa7e7d"
      },
      "outputs": [
        {
          "output_type": "stream",
          "name": "stdout",
          "text": [
            "{'s': 2, 'u': 1, 'p': 1, 'e': 1, 'r': 1, 'o': 1, 'n': 1, 'i': 1, 'c': 1}\n"
          ]
        }
      ],
      "source": [
        "print(freq(\"supersonic\"))"
      ]
    },
    {
      "cell_type": "markdown",
      "id": "99434f64",
      "metadata": {
        "id": "99434f64"
      },
      "source": [
        "For the dictionaries above, notice that the ordering of the output is different. \n",
        "\n",
        "This is because as of Python 3.6, for the CPython implementation of Python, dictionaries remember the order of items inserted. \n",
        "\n",
        "In the example below, both of the outputs have the same key-value pairs which means that freq('percussion') == freq('supersonic')."
      ]
    },
    {
      "cell_type": "code",
      "execution_count": 7,
      "id": "8ddf2e23",
      "metadata": {
        "colab": {
          "base_uri": "https://localhost:8080/"
        },
        "id": "8ddf2e23",
        "outputId": "77a7443f-dc0e-47c3-d759-939fb862e649"
      },
      "outputs": [
        {
          "output_type": "execute_result",
          "data": {
            "text/plain": [
              "[('c', 1),\n",
              " ('e', 1),\n",
              " ('i', 1),\n",
              " ('n', 1),\n",
              " ('o', 1),\n",
              " ('p', 1),\n",
              " ('r', 1),\n",
              " ('s', 2),\n",
              " ('u', 1)]"
            ]
          },
          "metadata": {},
          "execution_count": 7
        }
      ],
      "source": [
        "sorted(list(freq(\"percussion\").items()))"
      ]
    },
    {
      "cell_type": "code",
      "execution_count": 8,
      "id": "279731df",
      "metadata": {
        "colab": {
          "base_uri": "https://localhost:8080/"
        },
        "id": "279731df",
        "outputId": "a830ba3c-1147-454d-f48b-f6b6d59fd854"
      },
      "outputs": [
        {
          "output_type": "execute_result",
          "data": {
            "text/plain": [
              "[('c', 1),\n",
              " ('e', 1),\n",
              " ('i', 1),\n",
              " ('n', 1),\n",
              " ('o', 1),\n",
              " ('p', 1),\n",
              " ('r', 1),\n",
              " ('s', 2),\n",
              " ('u', 1)]"
            ]
          },
          "metadata": {},
          "execution_count": 8
        }
      ],
      "source": [
        "sorted(list(freq(\"supersonic\").items()))"
      ]
    },
    {
      "cell_type": "markdown",
      "id": "c6923302",
      "metadata": {
        "id": "c6923302"
      },
      "source": [
        "__Concluding Remarks__\n",
        "\n",
        "The two approaches are definitely not the only ways to detect anagrams, but hopefully this notebook helped you. Feel free to share your ideas or approaches if there is a better and/or simpler approach.\n"
      ]
    },
    {
      "cell_type": "code",
      "execution_count": 8,
      "id": "64a56828",
      "metadata": {
        "id": "64a56828"
      },
      "outputs": [],
      "source": [
        ""
      ]
    }
  ],
  "metadata": {
    "kernelspec": {
      "display_name": "Python 3 (ipykernel)",
      "language": "python",
      "name": "python3"
    },
    "language_info": {
      "codemirror_mode": {
        "name": "ipython",
        "version": 3
      },
      "file_extension": ".py",
      "mimetype": "text/x-python",
      "name": "python",
      "nbconvert_exporter": "python",
      "pygments_lexer": "ipython3",
      "version": "3.8.12"
    },
    "colab": {
      "name": "001_Anagrams.ipynb",
      "provenance": [],
      "include_colab_link": true
    }
  },
  "nbformat": 4,
  "nbformat_minor": 5
}